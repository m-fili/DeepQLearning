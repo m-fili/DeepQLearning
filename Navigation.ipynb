{
 "cells": [
  {
   "cell_type": "markdown",
   "metadata": {},
   "source": [
    "# Navigation\n",
    "\n",
    "---\n",
    "\n",
    "You are welcome to use this coding environment to train your agent for the project.  Follow the instructions below to get started!\n",
    "\n",
    "### 1. Start the Environment\n",
    "\n",
    "Run the next code cell to install a few packages.  This line will take a few minutes to run!"
   ]
  },
  {
   "cell_type": "code",
   "execution_count": 1,
   "metadata": {},
   "outputs": [
    {
     "name": "stdout",
     "output_type": "stream",
     "text": [
      "\u001B[31mtensorflow 1.7.1 has requirement numpy>=1.13.3, but you'll have numpy 1.12.1 which is incompatible.\u001B[0m\r\n",
      "\u001B[31mipython 6.5.0 has requirement prompt-toolkit<2.0.0,>=1.0.15, but you'll have prompt-toolkit 3.0.36 which is incompatible.\u001B[0m\r\n",
      "\u001B[31mjupyter-console 6.4.3 has requirement jupyter-client>=7.0.0, but you'll have jupyter-client 5.2.4 which is incompatible.\u001B[0m\r\n"
     ]
    }
   ],
   "source": [
    "!pip -q install ./python"
   ]
  },
  {
   "cell_type": "markdown",
   "metadata": {},
   "source": [
    "The environment is already saved in the Workspace and can be accessed at the file path provided below.  Please run the next code cell without making any changes."
   ]
  },
  {
   "cell_type": "code",
   "execution_count": 2,
   "metadata": {},
   "outputs": [
    {
     "name": "stderr",
     "output_type": "stream",
     "text": [
      "INFO:unityagents:\n",
      "'Academy' started successfully!\n",
      "Unity Academy name: Academy\n",
      "        Number of Brains: 1\n",
      "        Number of External Brains : 1\n",
      "        Lesson number : 0\n",
      "        Reset Parameters :\n",
      "\t\t\n",
      "Unity brain name: BananaBrain\n",
      "        Number of Visual Observations (per agent): 0\n",
      "        Vector Observation space type: continuous\n",
      "        Vector Observation space size (per agent): 37\n",
      "        Number of stacked Vector Observation: 1\n",
      "        Vector Action space type: discrete\n",
      "        Vector Action space size (per agent): 4\n",
      "        Vector Action descriptions: , , , \n"
     ]
    }
   ],
   "source": [
    "from unityagents import UnityEnvironment\n",
    "import numpy as np\n",
    "\n",
    "# please do not modify the line below\n",
    "env = UnityEnvironment(file_name=\"/data/Banana_Linux_NoVis/Banana.x86_64\")"
   ]
  },
  {
   "cell_type": "markdown",
   "metadata": {},
   "source": [
    "Environments contain **_brains_** which are responsible for deciding the actions of their associated agents. Here we check for the first brain available, and set it as the default brain we will be controlling from Python."
   ]
  },
  {
   "cell_type": "code",
   "execution_count": 3,
   "metadata": {},
   "outputs": [],
   "source": [
    "# get the default brain\n",
    "brain_name = env.brain_names[0]\n",
    "brain = env.brains[brain_name]"
   ]
  },
  {
   "cell_type": "markdown",
   "metadata": {},
   "source": [
    "### 2. Examine the State and Action Spaces\n",
    "\n",
    "Run the code cell below to print some information about the environment."
   ]
  },
  {
   "cell_type": "code",
   "execution_count": 4,
   "metadata": {},
   "outputs": [
    {
     "name": "stdout",
     "output_type": "stream",
     "text": [
      "Number of agents: 1\n",
      "Number of actions: 4\n",
      "States look like: [ 1.          0.          0.          0.          0.84408134  0.          0.\n",
      "  1.          0.          0.0748472   0.          1.          0.          0.\n",
      "  0.25755     1.          0.          0.          0.          0.74177343\n",
      "  0.          1.          0.          0.          0.25854847  0.          0.\n",
      "  1.          0.          0.09355672  0.          1.          0.          0.\n",
      "  0.31969345  0.          0.        ]\n",
      "States have length: 37\n"
     ]
    }
   ],
   "source": [
    "# reset the environment\n",
    "env_info = env.reset(train_mode=True)[brain_name]\n",
    "\n",
    "# number of agents in the environment\n",
    "print('Number of agents:', len(env_info.agents))\n",
    "\n",
    "# number of actions\n",
    "action_size = brain.vector_action_space_size\n",
    "print('Number of actions:', action_size)\n",
    "\n",
    "# examine the state space \n",
    "state = env_info.vector_observations[0]\n",
    "print('States look like:', state)\n",
    "state_size = len(state)\n",
    "print('States have length:', state_size)"
   ]
  },
  {
   "cell_type": "markdown",
   "metadata": {},
   "source": [
    "### 3. Take Random Actions in the Environment\n",
    "\n",
    "In the next code cell, you will learn how to use the Python API to control the agent and receive feedback from the environment.\n",
    "\n",
    "Note that **in this coding environment, you will not be able to watch the agent while it is training**, and you should set `train_mode=True` to restart the environment."
   ]
  },
  {
   "cell_type": "code",
   "execution_count": 5,
   "metadata": {},
   "outputs": [
    {
     "name": "stdout",
     "output_type": "stream",
     "text": [
      "Score: 0.0\n"
     ]
    }
   ],
   "source": [
    "env_info = env.reset(train_mode=True)[brain_name] # reset the environment\n",
    "state = env_info.vector_observations[0]            # get the current state\n",
    "score = 0                                          # initialize the score\n",
    "\n",
    "while True:\n",
    "    action = np.random.randint(action_size)        # select an action\n",
    "    env_info = env.step(action)[brain_name]        # send the action to the environment\n",
    "    next_state = env_info.vector_observations[0]   # get the next state\n",
    "    reward = env_info.rewards[0]                   # get the reward\n",
    "    done = env_info.local_done[0]                  # see if episode has finished\n",
    "    score += reward                                # update the score\n",
    "    state = next_state                             # roll over the state to next time step\n",
    "    if done:                                       # exit loop if episode finished\n",
    "        break\n",
    "    \n",
    "print(\"Score: {}\".format(score))"
   ]
  },
  {
   "cell_type": "markdown",
   "metadata": {},
   "source": [
    "When finished, you can close the environment."
   ]
  },
  {
   "cell_type": "code",
   "execution_count": null,
   "metadata": {},
   "outputs": [],
   "source": [
    "env.close()"
   ]
  },
  {
   "cell_type": "markdown",
   "metadata": {},
   "source": [
    "### 4. It's Your Turn!\n",
    "\n",
    "Now it's your turn to train your own agent to solve the environment!  A few **important notes**:\n",
    "- When training the environment, set `train_mode=True`, so that the line for resetting the environment looks like the following:\n",
    "```python\n",
    "env_info = env.reset(train_mode=True)[brain_name]\n",
    "```\n",
    "- To structure your work, you're welcome to work directly in this Jupyter notebook, or you might like to start over with a new file!  You can see the list of files in the workspace by clicking on **_Jupyter_** in the top left corner of the notebook.\n",
    "- In this coding environment, you will not be able to watch the agent while it is training.  However, **_after training the agent_**, you can download the saved model weights to watch the agent on your own machine! "
   ]
  },
  {
   "cell_type": "code",
   "execution_count": 5,
   "metadata": {},
   "outputs": [],
   "source": [
    "import random\n",
    "from collections import deque, namedtuple\n",
    "\n",
    "import torch\n",
    "import torch.nn as nn\n",
    "import torch.nn.functional as F\n",
    "import torch.optim as optim"
   ]
  },
  {
   "cell_type": "code",
   "execution_count": 6,
   "metadata": {},
   "outputs": [],
   "source": [
    "class QNetwork(nn.Module):\n",
    "    \"\"\"Actor (Policy) Model.\"\"\"\n",
    "\n",
    "    def __init__(self, state_size, action_size, seed, fc1_units=64, fc2_units=64):\n",
    "        \"\"\"Initialize parameters and build model.\n",
    "        Params\n",
    "        ======\n",
    "            state_size (int): Dimension of each state\n",
    "            action_size (int): Dimension of each action\n",
    "            seed (int): Random seed\n",
    "            fc1_units (int): Number of nodes in first hidden layer\n",
    "            fc2_units (int): Number of nodes in second hidden layer\n",
    "        \"\"\"\n",
    "        super(QNetwork, self).__init__()\n",
    "        self.seed = torch.manual_seed(seed)\n",
    "        self.fc1 = nn.Linear(state_size, fc1_units)\n",
    "        self.fc2 = nn.Linear(fc1_units, fc2_units)\n",
    "        self.fc3 = nn.Linear(fc2_units, action_size)\n",
    "\n",
    "    def forward(self, state):\n",
    "        \"\"\"Build a network that maps state -> action values.\"\"\"\n",
    "        x = F.relu(self.fc1(state))\n",
    "        x = F.relu(self.fc2(x))\n",
    "        return self.fc3(x)"
   ]
  },
  {
   "cell_type": "code",
   "execution_count": 7,
   "metadata": {},
   "outputs": [],
   "source": [
    "class Agent:\n",
    "    \n",
    "    \n",
    "    def __init__(self, env, gamma, buffer_size, batch_size, learning_rate=5e-4, load_weights=None, train_mode=True):\n",
    "        \n",
    "        seed = 110\n",
    "        self.device = torch.device(\"cuda:0\" if torch.cuda.is_available() else \"cpu\")\n",
    "        \n",
    "        # General\n",
    "        env_info = env.reset(train_mode=train_mode)[brain_name]\n",
    "        state = env_info.vector_observations[0]\n",
    "        self.n_states = len(state)\n",
    "        self.n_actions = brain.vector_action_space_size\n",
    "        self.train_mode = train_mode\n",
    "        \n",
    "        # Learning\n",
    "        self.gamma = gamma\n",
    "        \n",
    "        # Q-networks\n",
    "        self.learning_rate = learning_rate\n",
    "        self.qnetwork = QNetwork(self.n_states, self.n_actions, seed).to(self.device)\n",
    "        self.target_qnetwork = QNetwork(self.n_states, self.n_actions, seed).to(self.device)\n",
    "        if load_weights is not None:\n",
    "            self.target_qnetwork.load_state_dict(torch.load(load_weights))\n",
    "            self.qnetwork.load_state_dict(torch.load(load_weights))\n",
    "        else:\n",
    "            self.target_qnetwork.load_state_dict(self.qnetwork.state_dict())\n",
    "        self.optimizer = optim.Adam(self.qnetwork.parameters(), lr=learning_rate)\n",
    "        \n",
    "        # Experience replay\n",
    "        self.memory = deque(maxlen=buffer_size)\n",
    "        self.buffer_size = buffer_size\n",
    "        self.batch_size = batch_size\n",
    "        self.experience = namedtuple('experience', ['state', 'action', 'reward', 'next_state', 'done'])\n",
    "        \n",
    "        \n",
    "        \n",
    "    \n",
    "    \n",
    "    \n",
    "    def update_target_qnetwork(self):\n",
    "        \"\"\"\n",
    "        Copy the weights of the main network to the target network.\n",
    "        \"\"\"\n",
    "        #self.target_qnetwork.set_weights(self.qnetwork.get_weights())\n",
    "        # alternative solution is to use soft-update:\n",
    "        # θ_target = τ*θ_local + (1 - τ)*θ_target\n",
    "        tau = 1e-3\n",
    "        for target_param, local_param in zip(self.target_qnetwork.parameters(), self.qnetwork.parameters()):\n",
    "            target_param.data.copy_(tau*local_param.data + (1.0-tau)*target_param.data)\n",
    "        \n",
    "    \n",
    "    \n",
    "    def update_main_qnetwork(self):\n",
    "        \"\"\"\n",
    "        Updates the main q-network\n",
    "        \"\"\"\n",
    "        # sample\n",
    "        minibatch = random.sample(self.memory, k=self.batch_size)\n",
    "        \n",
    "        states = torch.from_numpy(np.vstack([e.state for e in minibatch if e is not None])).float().to(self.device)\n",
    "        actions = torch.from_numpy(np.vstack([e.action for e in minibatch if e is not None])).long().to(self.device)\n",
    "        rewards = torch.from_numpy(np.vstack([e.reward for e in minibatch if e is not None])).float().to(self.device)\n",
    "        next_states = torch.from_numpy(np.vstack([e.next_state for e in minibatch if e is not None])).float().to(self.device)\n",
    "        dones = torch.from_numpy(np.vstack([e.done for e in minibatch if e is not None]).astype(np.uint8)).float().to(self.device)\n",
    "        \n",
    "        # Get max predicted Q values (for next states) from target model\n",
    "        Q_targets_next = self.target_qnetwork(next_states).detach().max(1)[0].unsqueeze(1)\n",
    "        \n",
    "        # Compute Q targets for current states \n",
    "        Q_targets = rewards + (self.gamma * Q_targets_next * (1 - dones))\n",
    "\n",
    "        # Get expected Q values from local model\n",
    "        Q_expected = self.qnetwork(states).gather(1, actions)\n",
    "\n",
    "        # Compute loss\n",
    "        loss = F.mse_loss(Q_expected, Q_targets)\n",
    "        \n",
    "        # Minimize the loss\n",
    "        self.optimizer.zero_grad()\n",
    "        loss.backward()\n",
    "        self.optimizer.step()\n",
    "    \n",
    "    \n",
    "    \n",
    "    \n",
    "    def take_action(self, state, epsilon):\n",
    "        \"\"\"\n",
    "        The greedy action procedure.\n",
    "        We use the main network to find the action.\n",
    "        \"\"\"\n",
    "        if np.random.rand() <= epsilon:\n",
    "            action = torch.tensor([np.random.randint(self.n_actions)], device=self.device, dtype=torch.long)\n",
    "        else:\n",
    "            # predict using main network\n",
    "            with torch.no_grad():\n",
    "                s = torch.tensor(state, dtype=torch.float32, device=self.device).unsqueeze(0)\n",
    "                action = self.qnetwork(s).max(1)[1].view(1, 1)\n",
    "        \n",
    "        return action.item()\n",
    "    \n",
    "    \n",
    "    \n",
    "    def add_experience(self, state, action, reward, next_state, done):\n",
    "        \"\"\"\n",
    "        Add the latest experience tuple\n",
    "        \"\"\"\n",
    "        exp = self.experience(state, action, reward, next_state, done)\n",
    "        self.memory.append(exp)"
   ]
  },
  {
   "cell_type": "code",
   "execution_count": 12,
   "metadata": {},
   "outputs": [],
   "source": [
    "def dqn(env, agent, n_episodes = 1800, min_epsilon = 0.05, epsilon_decay = 0.995, \n",
    "        t_max = 10, epsilon = 1.0, update_target_frequency = 10, \n",
    "        update_main_frequency = 2):\n",
    "    \n",
    "    TARGET_SCORE = 15.0\n",
    "    epsilon = 1.0\n",
    "\n",
    "    # counts the total steps (we use it to see when to train the main qnetwork and when to copy main to target.)\n",
    "    iteration = 0\n",
    "    \n",
    "    # To store scores\n",
    "    scores = []\n",
    "    scores_window = deque(maxlen=100)\n",
    "\n",
    "    for episode in range(1, n_episodes+1):\n",
    "\n",
    "        score = 0\n",
    "        env_info = env.reset(train_mode=agent.train_mode)[brain_name]    # reset the environment\n",
    "        s1 = env_info.vector_observations[0]  \n",
    "        \n",
    "        # update epsilon value\n",
    "        epsilon = max(min_epsilon, epsilon*epsilon_decay)\n",
    "\n",
    "        while True:\n",
    "\n",
    "            # take action when in state S\n",
    "            action = agent.take_action(s1, epsilon)\n",
    "\n",
    "            # take next step\n",
    "            env_info = env.step(action)[brain_name]\n",
    "            s2 = env_info.vector_observations[0]\n",
    "            reward = env_info.rewards[0]\n",
    "            done = env_info.local_done[0]\n",
    "            \n",
    "            # update score in current episode\n",
    "            score += reward\n",
    "            \n",
    "            # store experinece tuple (s1, a, r, s2, done) to the memory\n",
    "            agent.add_experience(s1, action, reward, s2, done)\n",
    "            \n",
    "            # update main q-network\n",
    "            if iteration % update_main_frequency == 0:\n",
    "                if len(agent.memory) >= agent.batch_size:\n",
    "                    agent.update_main_qnetwork()\n",
    "\n",
    "            # update target q-network\n",
    "            if iteration % update_target_frequency == 0:\n",
    "                agent.update_target_qnetwork()\n",
    "\n",
    "            # update counter\n",
    "            iteration += 1 \n",
    "\n",
    "            s1 = s2\n",
    "\n",
    "            if done:\n",
    "                break\n",
    "                \n",
    "        scores.append(score)\n",
    "        scores_window.append(score)\n",
    "        \n",
    "        print('\\rEpisode {}\\tAverage Score: {:.2f}'.format(episode, np.mean(scores_window)), end=\"\\r\")\n",
    "        if episode % 100 == 0:\n",
    "            print(f\"Episode={episode:03}\\tAverage Score={np.mean(scores_window)}\")\n",
    "          \n",
    "        if np.mean(scores_window) >= TARGET_SCORE:\n",
    "            print(f\"Agent reached target score in {episode} episodes! (Avg. Score = {np.mean(scores_window)})\")\n",
    "            # save main qnetwork\n",
    "            torch.save(agent.qnetwork.state_dict(), 'checkpoint01.pth')\n",
    "            break\n",
    "    \n",
    "    return scores"
   ]
  },
  {
   "cell_type": "code",
   "execution_count": 13,
   "metadata": {},
   "outputs": [],
   "source": [
    "agent = Agent(env, gamma=0.99, buffer_size=100000, batch_size=64, learning_rate=5e-4, train_mode=True)"
   ]
  },
  {
   "cell_type": "code",
   "execution_count": 14,
   "metadata": {},
   "outputs": [
    {
     "name": "stdout",
     "output_type": "stream",
     "text": [
      "Episode=100\tAverage Score=1.199\n",
      "Episode=200\tAverage Score=5.788\n",
      "Episode=300\tAverage Score=8.770\n",
      "Episode=400\tAverage Score=10.000\n",
      "Episode=500\tAverage Score=13.255\n",
      "Episode=600\tAverage Score=13.955\n",
      "Agent reached target score in 666 episodes! (Avg. Score = 15.06)\n"
     ]
    }
   ],
   "source": [
    "scores = dqn(env, agent, n_episodes = 1800, min_epsilon=0.01, epsilon_decay = 0.995, \n",
    "             t_max = 1000, update_target_frequency=4, update_main_frequency = 4)"
   ]
  },
  {
   "cell_type": "code",
   "execution_count": 22,
   "metadata": {},
   "outputs": [
    {
     "data": {
      "image/png": "[encoded data removed]",
      "text/plain": [
       "<matplotlib.figure.Figure at 0x7f4149ea1b00>"
      ]
     },
     "metadata": {
      "needs_background": "light"
     },
     "output_type": "display_data"
    }
   ],
   "source": [
    "import matplotlib.pyplot as plt\n",
    "import pandas as pd\n",
    "\n",
    "plt.plot(scores, alpha=0.8)\n",
    "plt.plot(pd.Series(scores).rolling(100).mean(), color='purple', linestyle='-')\n",
    "plt.show()"
   ]
  }
 ],
 "metadata": {
  "kernelspec": {
   "display_name": "Python 3",
   "language": "python",
   "name": "python3"
  },
  "language_info": {
   "codemirror_mode": {
    "name": "ipython",
    "version": 3
   },
   "file_extension": ".py",
   "mimetype": "text/x-python",
   "name": "python",
   "nbconvert_exporter": "python",
   "pygments_lexer": "ipython3",
   "version": "3.6.3"
  }
 },
 "nbformat": 4,
 "nbformat_minor": 2
}
